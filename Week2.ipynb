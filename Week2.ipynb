{
 "cells": [
  {
   "cell_type": "markdown",
   "metadata": {},
   "source": [
    "以多層感應器(MLP)辨識圖片中數字"
   ]
  },
  {
   "cell_type": "markdown",
   "metadata": {},
   "source": [
    "什麼是多層感應器？\n",
    "MLP(Multilayer perceptron)是前向傳輸類神經網路，它包含了三層結構：輸入層、隱藏層以及輸出層\n",
    "訓練及測試MLP過程為何？\n",
    "\n",
    "訓練過程：\n",
    "訓練及資料經過預處理後會產生Features(影像特徵值)以及Label(真實數值)\n",
    "經過訓練後，訓練完成的模型可以通過測試過程來測試準確度\n",
    "\n",
    "測試過程：\n",
    "輸入測試影像，經過預處理後會產生Features，並通過訓練過程所產生的模型來預測此圖片中數字為何。"
   ]
  },
  {
   "cell_type": "markdown",
   "metadata": {},
   "source": [
    "建立模型"
   ]
  },
  {
   "cell_type": "code",
   "execution_count": 1,
   "metadata": {},
   "outputs": [
    {
     "name": "stderr",
     "output_type": "stream",
     "text": [
      "Using TensorFlow backend.\n"
     ]
    }
   ],
   "source": [
    "from keras.utils import np_utils #匯入keras.utils因為後續要將label轉換為One-Hot encoding\n",
    "import numpy as np #匯入numpy模組\n",
    "np.random.seed(10) #設定seed可以讓每次需要隨機產生的資料，都有相同的輸出"
   ]
  },
  {
   "cell_type": "code",
   "execution_count": 2,
   "metadata": {},
   "outputs": [],
   "source": [
    "from keras.datasets import mnist #匯入mnist模組"
   ]
  },
  {
   "cell_type": "code",
   "execution_count": 3,
   "metadata": {},
   "outputs": [],
   "source": [
    "(x_train_image,y_train_label),\\\n",
    "(x_test_image,y_test_label)=mnist.load_data() #讀取mnist資料集"
   ]
  },
  {
   "cell_type": "code",
   "execution_count": 4,
   "metadata": {},
   "outputs": [],
   "source": [
    "#將原本28X28數字影像，用reshape轉換為784個float數字\n",
    "x_Train = x_train_image.reshape(60000,784).astype('float32')\n",
    "x_Test = x_test_image.reshape(10000,784).astype('float32')"
   ]
  },
  {
   "cell_type": "code",
   "execution_count": 5,
   "metadata": {},
   "outputs": [],
   "source": [
    "#將features(影像特徵值)標準化，可以提高模型預測的準確度，並加快收斂\n",
    "x_Train_normalize = x_Train/255\n",
    "x_Test_normalize = x_Test/255"
   ]
  },
  {
   "cell_type": "code",
   "execution_count": 6,
   "metadata": {},
   "outputs": [],
   "source": [
    "#使用np_utils.to_categorical將訓練資料與測試資料的label進行One-Hot encoding轉換\n",
    "y_Train_OneHot = np_utils.to_categorical(y_train_label)\n",
    "y_Test_OneHot = np_utils.to_categorical(y_test_label)"
   ]
  },
  {
   "cell_type": "code",
   "execution_count": 7,
   "metadata": {},
   "outputs": [],
   "source": [
    "#建立模型前須匯入需要用到之模組\n",
    "from keras.models import Sequential\n",
    "from keras.layers import Dense"
   ]
  },
  {
   "cell_type": "code",
   "execution_count": 8,
   "metadata": {},
   "outputs": [],
   "source": [
    "model = Sequential() #建立一個線性堆疊模型，之後只要使用model.add()方法，即可將神經網路層加入模型中"
   ]
  },
  {
   "cell_type": "code",
   "execution_count": 9,
   "metadata": {},
   "outputs": [],
   "source": [
    "#通過使用model.add方法，加入Dense神經網路層。Dense神經網路層的特色為所有上一層與下一層的神經元都為完全連結狀態\n",
    "#units為定義隱藏層神經元數量，input_dim為設定輸入層的神經元個數，kernel_initializer='normal'為使用常態分佈的亂數初始化weight(權重)及bias(偏差值)，activation為定義激活函數為relu\n",
    "model.add(Dense(units=256,input_dim=784,kernel_initializer='normal',activation='relu'))"
   ]
  },
  {
   "cell_type": "code",
   "execution_count": 10,
   "metadata": {},
   "outputs": [],
   "source": [
    "#建立輸出層 共有10個神經元，對應0~9 10個數字，使用softmax激活函數進行轉換，softmax可以將神經元的輸出轉換為預測每一個數字的機率\n",
    "#units為定義輸出層神經元個數，kernel_initializer='normal'為使用常態分佈的亂數初始化weight(權重)及bias(偏差值)，activation定義激活函數為softmax\n",
    "model.add(Dense(units=10,kernel_initializer='normal',activation='softmax'))"
   ]
  },
  {
   "cell_type": "code",
   "execution_count": 11,
   "metadata": {},
   "outputs": [
    {
     "name": "stdout",
     "output_type": "stream",
     "text": [
      "_________________________________________________________________\n",
      "Layer (type)                 Output Shape              Param #   \n",
      "=================================================================\n",
      "dense_1 (Dense)              (None, 256)               200960    \n",
      "_________________________________________________________________\n",
      "dense_2 (Dense)              (None, 10)                2570      \n",
      "=================================================================\n",
      "Total params: 203,530\n",
      "Trainable params: 203,530\n",
      "Non-trainable params: 0\n",
      "_________________________________________________________________\n",
      "None\n"
     ]
    }
   ],
   "source": [
    "print(model.summary()) #此指令可察看模型摘要"
   ]
  },
  {
   "cell_type": "code",
   "execution_count": 12,
   "metadata": {},
   "outputs": [],
   "source": [
    "model.compile(loss='categorical_crossentropy',optimizer='adam',metrics=['accuracy']) #訓練模型前，使用compile方法對模型進行設定\n",
    "#loss 為設定損失函數，在深度學習通常使用cross_entropy交叉墒，訓練效果比較好\n",
    "#optimizer 為設定訓練時的最優化方法，在深度學習使用adam最優畫方法，可以讓訓練更快收斂並提高準確率\n",
    "#metrics 為設定評估模型的方式為accuracy準確率"
   ]
  },
  {
   "cell_type": "markdown",
   "metadata": {},
   "source": [
    "開始訓練模型"
   ]
  },
  {
   "cell_type": "code",
   "execution_count": 13,
   "metadata": {},
   "outputs": [
    {
     "name": "stdout",
     "output_type": "stream",
     "text": [
      "Train on 48000 samples, validate on 12000 samples\n",
      "Epoch 1/10\n",
      " - 2s - loss: 0.4434 - acc: 0.8813 - val_loss: 0.2193 - val_acc: 0.9400\n",
      "Epoch 2/10\n",
      " - 1s - loss: 0.1916 - acc: 0.9450 - val_loss: 0.1558 - val_acc: 0.9555\n",
      "Epoch 3/10\n",
      " - 1s - loss: 0.1358 - acc: 0.9615 - val_loss: 0.1263 - val_acc: 0.9645\n",
      "Epoch 4/10\n",
      " - 1s - loss: 0.1031 - acc: 0.9704 - val_loss: 0.1125 - val_acc: 0.9678\n",
      "Epoch 5/10\n",
      " - 1s - loss: 0.0812 - acc: 0.9774 - val_loss: 0.0988 - val_acc: 0.9715\n",
      "Epoch 6/10\n",
      " - 1s - loss: 0.0661 - acc: 0.9816 - val_loss: 0.0939 - val_acc: 0.9723\n",
      "Epoch 7/10\n",
      " - 1s - loss: 0.0545 - acc: 0.9849 - val_loss: 0.0911 - val_acc: 0.9735\n",
      "Epoch 8/10\n",
      " - 1s - loss: 0.0457 - acc: 0.9878 - val_loss: 0.0832 - val_acc: 0.9763\n",
      "Epoch 9/10\n",
      " - 1s - loss: 0.0380 - acc: 0.9902 - val_loss: 0.0820 - val_acc: 0.9762\n",
      "Epoch 10/10\n",
      " - 1s - loss: 0.0316 - acc: 0.9919 - val_loss: 0.0801 - val_acc: 0.9766\n"
     ]
    }
   ],
   "source": [
    "train_history=model.fit(x=x_Train_normalize,y=y_Train_OneHot,validation_split=0.2,epochs=10,batch_size=200,verbose=2) #使用model.fit進行訓練，過程會儲存在train_history變數\n",
    "#x=x_Train_normalize 為features(影像特徵值)\n",
    "#y=y_Train_OneHot 為label(影像真實值)\n",
    "#validation_split=0.2 訓練前keras會自動將資料分成80%訓練資料及20%驗證資料\n",
    "#epochs=10 為設定執行10次訓練週期\n",
    "#batch_size=200 設定為每一批次200筆資料\n",
    "#verbose=2 顯示訓練過程"
   ]
  },
  {
   "cell_type": "code",
   "execution_count": 14,
   "metadata": {},
   "outputs": [],
   "source": [
    "#使用matplotlib.pyplot顯示訓練過程\n",
    "import matplotlib.pyplot as plt\n",
    "%matplotlib inline \n",
    "#設定matplotlib在jupyter note網頁內顯示圖形，如果沒使用此指令，會另開視窗顯示圖形\n",
    "def show_train_history(train_history,train,validation): #train_history為之前訓練過程所產生的train_history，train為訓練資料的執行結果，validation為驗證資料的執行結果\n",
    "    plt.plot(train_history.history[train])\n",
    "    plt.plot(train_history.history[validation])\n",
    "    plt.title('Train History') #顯示圖的標題\n",
    "    plt.ylabel(train) #顯示y軸標籤\n",
    "    plt.xlabel('Epoch') #顯示x軸標籤為Epoch\n",
    "    plt.legend(['train','validation'],loc = 'upper left') #設定圖利為顯示'train','validation'，位置在左上角\n",
    "    plt.show()"
   ]
  },
  {
   "cell_type": "code",
   "execution_count": 15,
   "metadata": {},
   "outputs": [
    {
     "data": {
      "image/png": "[encoded data removed]",
      "text/plain": [
       "<matplotlib.figure.Figure at 0x7fc54d05e438>"
      ]
     },
     "metadata": {},
     "output_type": "display_data"
    }
   ],
   "source": [
    "show_train_history(train_history,'acc','val_acc') #畫出accuracy準確率執行結果"
   ]
  },
  {
   "cell_type": "code",
   "execution_count": 16,
   "metadata": {},
   "outputs": [
    {
     "data": {
      "image/png": "[encoded data removed]",
      "text/plain": [
       "<matplotlib.figure.Figure at 0x7fc4b433be80>"
      ]
     },
     "metadata": {},
     "output_type": "display_data"
    }
   ],
   "source": [
    "show_train_history(train_history,'loss','val_loss') #畫出loss誤差執行結果"
   ]
  },
  {
   "cell_type": "code",
   "execution_count": 17,
   "metadata": {},
   "outputs": [
    {
     "name": "stdout",
     "output_type": "stream",
     "text": [
      "10000/10000 [==============================] - 1s 60us/step\n",
      "\n",
      "accuracy= 0.9767\n"
     ]
    }
   ],
   "source": [
    "#評估模型準確率\n",
    "scores = model.evaluate(x_Test_normalize,y_Test_OneHot) #使用model.evaluate進行評估模型準確率，評估後的準確率會儲存在scores\n",
    "print()\n",
    "print('accuracy=',scores[1]) #顯示準確率"
   ]
  },
  {
   "cell_type": "markdown",
   "metadata": {},
   "source": [
    "從上面執行結果可看到準確度為0.9765"
   ]
  },
  {
   "cell_type": "markdown",
   "metadata": {},
   "source": [
    "進行預測測試"
   ]
  },
  {
   "cell_type": "code",
   "execution_count": 18,
   "metadata": {},
   "outputs": [],
   "source": [
    "prediction=model.predict_classes(x_Test) #使用model.predict_classes輸入操數x_Test(測試資料的數字影像)進行預測，並將結果儲存於prediction變數"
   ]
  },
  {
   "cell_type": "code",
   "execution_count": 19,
   "metadata": {},
   "outputs": [
    {
     "data": {
      "text/plain": [
       "array([7, 2, 1, ..., 4, 5, 6])"
      ]
     },
     "execution_count": 19,
     "metadata": {},
     "output_type": "execute_result"
    }
   ],
   "source": [
    "prediction #查看預測結果的前10筆資料"
   ]
  },
  {
   "cell_type": "code",
   "execution_count": 20,
   "metadata": {},
   "outputs": [],
   "source": [
    "#建立plot_images_labels_prediction函數\n",
    "def plot_images_labels_prediction(images, labels, prediction, idx, num=10): #定義函數，並傳入5個參數：images(數字影像)、labels(真實值)、prediction(預測結果)、idx(開始顯示的資料index)及\n",
    "    fig = plt.gcf() #設定圖形大小                                                                                                                                          num(資料筆數)\n",
    "    fig.set_size_inches(12, 14)\n",
    "    if num>25: num=25 #如果資料筆數超過25則設為25，避免出錯\n",
    "    for i in range(0, num): #定義for迴圈\n",
    "        ax=plt.subplot(5, 5, 1+i) #建立subfraph子圖形為5行5列\n",
    "        ax.imshow(images[idx], cmap='binary') #畫出subgraph子圖形\n",
    "        title= \"label=\" + str(labels[idx]) #設定子圖形title，顯示標籤欄位\n",
    "        if len(prediction)>0: #如果有傳入預測結果\n",
    "            title=title+\",prediction=\"+str(prediction[idx]) #標題title加入預測結果\n",
    "            \n",
    "        ax.set_title(title, fontsize=10) #設定子圖形的標題title與大小\n",
    "        ax.set_xticks([]); ax.set_yticks([]) #設定為不顯示刻度\n",
    "        idx+=1 #讀取下一筆資料\n",
    "    plt.show()"
   ]
  },
  {
   "cell_type": "code",
   "execution_count": 21,
   "metadata": {},
   "outputs": [
    {
     "data": {
      "image/png": "[encoded data removed]",
      "text/plain": [
       "<matplotlib.figure.Figure at 0x7fc4b4260080>"
      ]
     },
     "metadata": {},
     "output_type": "display_data"
    }
   ],
   "source": [
    "plot_images_labels_prediction(x_test_image,y_test_label,prediction, idx=340) #顯示從340~349等10筆資料"
   ]
  },
  {
   "cell_type": "markdown",
   "metadata": {},
   "source": [
    "使用pandas crosstab建立混淆矩陣(confusion matrix)"
   ]
  },
  {
   "cell_type": "code",
   "execution_count": 22,
   "metadata": {},
   "outputs": [
    {
     "data": {
      "text/html": [
       "<div>\n",
       "<table border=\"1\" class=\"dataframe\">\n",
       "  <thead>\n",
       "    <tr style=\"text-align: right;\">\n",
       "      <th>predict</th>\n",
       "      <th>0</th>\n",
       "      <th>1</th>\n",
       "      <th>2</th>\n",
       "      <th>3</th>\n",
       "      <th>4</th>\n",
       "      <th>5</th>\n",
       "      <th>6</th>\n",
       "      <th>7</th>\n",
       "      <th>8</th>\n",
       "      <th>9</th>\n",
       "    </tr>\n",
       "    <tr>\n",
       "      <th>label</th>\n",
       "      <th></th>\n",
       "      <th></th>\n",
       "      <th></th>\n",
       "      <th></th>\n",
       "      <th></th>\n",
       "      <th></th>\n",
       "      <th></th>\n",
       "      <th></th>\n",
       "      <th></th>\n",
       "      <th></th>\n",
       "    </tr>\n",
       "  </thead>\n",
       "  <tbody>\n",
       "    <tr>\n",
       "      <th>0</th>\n",
       "      <td>971</td>\n",
       "      <td>0</td>\n",
       "      <td>1</td>\n",
       "      <td>1</td>\n",
       "      <td>1</td>\n",
       "      <td>0</td>\n",
       "      <td>2</td>\n",
       "      <td>1</td>\n",
       "      <td>3</td>\n",
       "      <td>0</td>\n",
       "    </tr>\n",
       "    <tr>\n",
       "      <th>1</th>\n",
       "      <td>0</td>\n",
       "      <td>1124</td>\n",
       "      <td>4</td>\n",
       "      <td>0</td>\n",
       "      <td>0</td>\n",
       "      <td>1</td>\n",
       "      <td>2</td>\n",
       "      <td>0</td>\n",
       "      <td>4</td>\n",
       "      <td>0</td>\n",
       "    </tr>\n",
       "    <tr>\n",
       "      <th>2</th>\n",
       "      <td>5</td>\n",
       "      <td>0</td>\n",
       "      <td>1012</td>\n",
       "      <td>0</td>\n",
       "      <td>1</td>\n",
       "      <td>0</td>\n",
       "      <td>2</td>\n",
       "      <td>4</td>\n",
       "      <td>7</td>\n",
       "      <td>1</td>\n",
       "    </tr>\n",
       "    <tr>\n",
       "      <th>3</th>\n",
       "      <td>0</td>\n",
       "      <td>0</td>\n",
       "      <td>3</td>\n",
       "      <td>992</td>\n",
       "      <td>0</td>\n",
       "      <td>1</td>\n",
       "      <td>0</td>\n",
       "      <td>3</td>\n",
       "      <td>6</td>\n",
       "      <td>5</td>\n",
       "    </tr>\n",
       "    <tr>\n",
       "      <th>4</th>\n",
       "      <td>1</td>\n",
       "      <td>0</td>\n",
       "      <td>5</td>\n",
       "      <td>1</td>\n",
       "      <td>960</td>\n",
       "      <td>0</td>\n",
       "      <td>3</td>\n",
       "      <td>0</td>\n",
       "      <td>2</td>\n",
       "      <td>10</td>\n",
       "    </tr>\n",
       "    <tr>\n",
       "      <th>5</th>\n",
       "      <td>3</td>\n",
       "      <td>0</td>\n",
       "      <td>0</td>\n",
       "      <td>16</td>\n",
       "      <td>1</td>\n",
       "      <td>854</td>\n",
       "      <td>7</td>\n",
       "      <td>1</td>\n",
       "      <td>7</td>\n",
       "      <td>3</td>\n",
       "    </tr>\n",
       "    <tr>\n",
       "      <th>6</th>\n",
       "      <td>5</td>\n",
       "      <td>3</td>\n",
       "      <td>3</td>\n",
       "      <td>1</td>\n",
       "      <td>4</td>\n",
       "      <td>3</td>\n",
       "      <td>937</td>\n",
       "      <td>0</td>\n",
       "      <td>2</td>\n",
       "      <td>0</td>\n",
       "    </tr>\n",
       "    <tr>\n",
       "      <th>7</th>\n",
       "      <td>0</td>\n",
       "      <td>5</td>\n",
       "      <td>12</td>\n",
       "      <td>7</td>\n",
       "      <td>1</td>\n",
       "      <td>0</td>\n",
       "      <td>0</td>\n",
       "      <td>990</td>\n",
       "      <td>5</td>\n",
       "      <td>8</td>\n",
       "    </tr>\n",
       "    <tr>\n",
       "      <th>8</th>\n",
       "      <td>4</td>\n",
       "      <td>0</td>\n",
       "      <td>3</td>\n",
       "      <td>5</td>\n",
       "      <td>1</td>\n",
       "      <td>1</td>\n",
       "      <td>2</td>\n",
       "      <td>2</td>\n",
       "      <td>955</td>\n",
       "      <td>1</td>\n",
       "    </tr>\n",
       "    <tr>\n",
       "      <th>9</th>\n",
       "      <td>3</td>\n",
       "      <td>5</td>\n",
       "      <td>0</td>\n",
       "      <td>10</td>\n",
       "      <td>8</td>\n",
       "      <td>2</td>\n",
       "      <td>1</td>\n",
       "      <td>5</td>\n",
       "      <td>5</td>\n",
       "      <td>970</td>\n",
       "    </tr>\n",
       "  </tbody>\n",
       "</table>\n",
       "</div>"
      ],
      "text/plain": [
       "predict    0     1     2    3    4    5    6    7    8    9\n",
       "label                                                      \n",
       "0        971     0     1    1    1    0    2    1    3    0\n",
       "1          0  1124     4    0    0    1    2    0    4    0\n",
       "2          5     0  1012    0    1    0    2    4    7    1\n",
       "3          0     0     3  992    0    1    0    3    6    5\n",
       "4          1     0     5    1  960    0    3    0    2   10\n",
       "5          3     0     0   16    1  854    7    1    7    3\n",
       "6          5     3     3    1    4    3  937    0    2    0\n",
       "7          0     5    12    7    1    0    0  990    5    8\n",
       "8          4     0     3    5    1    1    2    2  955    1\n",
       "9          3     5     0   10    8    2    1    5    5  970"
      ]
     },
     "execution_count": 22,
     "metadata": {},
     "output_type": "execute_result"
    }
   ],
   "source": [
    "import pandas as pd #匯入pandas模組\n",
    "pd.crosstab(y_test_label,prediction,rownames=['label'],colnames=['predict']) \n",
    "#y_test_label為測試資料影像的真實值，prediction為測試資料影像的預測結果，rownames為設定行的名稱，colnames則為設定列的名稱"
   ]
  },
  {
   "cell_type": "markdown",
   "metadata": {},
   "source": [
    "上圖對角線是預測正確的數字"
   ]
  },
  {
   "cell_type": "code",
   "execution_count": 23,
   "metadata": {},
   "outputs": [
    {
     "data": {
      "text/html": [
       "<div>\n",
       "<table border=\"1\" class=\"dataframe\">\n",
       "  <thead>\n",
       "    <tr style=\"text-align: right;\">\n",
       "      <th></th>\n",
       "      <th>label</th>\n",
       "      <th>predict</th>\n",
       "    </tr>\n",
       "  </thead>\n",
       "  <tbody>\n",
       "    <tr>\n",
       "      <th>0</th>\n",
       "      <td>7</td>\n",
       "      <td>7</td>\n",
       "    </tr>\n",
       "    <tr>\n",
       "      <th>1</th>\n",
       "      <td>2</td>\n",
       "      <td>2</td>\n",
       "    </tr>\n",
       "  </tbody>\n",
       "</table>\n",
       "</div>"
      ],
      "text/plain": [
       "   label  predict\n",
       "0      7        7\n",
       "1      2        2"
      ]
     },
     "execution_count": 23,
     "metadata": {},
     "output_type": "execute_result"
    }
   ],
   "source": [
    "df = pd.DataFrame({'label':y_test_label,'predict':prediction}) #建立dataframe(label為真實值，prediction為預測值)\n",
    "df[:2]"
   ]
  },
  {
   "cell_type": "code",
   "execution_count": 24,
   "metadata": {},
   "outputs": [
    {
     "data": {
      "text/html": [
       "<div>\n",
       "<table border=\"1\" class=\"dataframe\">\n",
       "  <thead>\n",
       "    <tr style=\"text-align: right;\">\n",
       "      <th></th>\n",
       "      <th>label</th>\n",
       "      <th>predict</th>\n",
       "    </tr>\n",
       "  </thead>\n",
       "  <tbody>\n",
       "    <tr>\n",
       "      <th>340</th>\n",
       "      <td>5</td>\n",
       "      <td>3</td>\n",
       "    </tr>\n",
       "    <tr>\n",
       "      <th>1003</th>\n",
       "      <td>5</td>\n",
       "      <td>3</td>\n",
       "    </tr>\n",
       "    <tr>\n",
       "      <th>1393</th>\n",
       "      <td>5</td>\n",
       "      <td>3</td>\n",
       "    </tr>\n",
       "    <tr>\n",
       "      <th>2035</th>\n",
       "      <td>5</td>\n",
       "      <td>3</td>\n",
       "    </tr>\n",
       "    <tr>\n",
       "      <th>2526</th>\n",
       "      <td>5</td>\n",
       "      <td>3</td>\n",
       "    </tr>\n",
       "    <tr>\n",
       "      <th>2597</th>\n",
       "      <td>5</td>\n",
       "      <td>3</td>\n",
       "    </tr>\n",
       "    <tr>\n",
       "      <th>2810</th>\n",
       "      <td>5</td>\n",
       "      <td>3</td>\n",
       "    </tr>\n",
       "    <tr>\n",
       "      <th>3117</th>\n",
       "      <td>5</td>\n",
       "      <td>3</td>\n",
       "    </tr>\n",
       "    <tr>\n",
       "      <th>3902</th>\n",
       "      <td>5</td>\n",
       "      <td>3</td>\n",
       "    </tr>\n",
       "    <tr>\n",
       "      <th>4271</th>\n",
       "      <td>5</td>\n",
       "      <td>3</td>\n",
       "    </tr>\n",
       "    <tr>\n",
       "      <th>4355</th>\n",
       "      <td>5</td>\n",
       "      <td>3</td>\n",
       "    </tr>\n",
       "    <tr>\n",
       "      <th>4360</th>\n",
       "      <td>5</td>\n",
       "      <td>3</td>\n",
       "    </tr>\n",
       "    <tr>\n",
       "      <th>5937</th>\n",
       "      <td>5</td>\n",
       "      <td>3</td>\n",
       "    </tr>\n",
       "    <tr>\n",
       "      <th>5972</th>\n",
       "      <td>5</td>\n",
       "      <td>3</td>\n",
       "    </tr>\n",
       "    <tr>\n",
       "      <th>6028</th>\n",
       "      <td>5</td>\n",
       "      <td>3</td>\n",
       "    </tr>\n",
       "    <tr>\n",
       "      <th>6598</th>\n",
       "      <td>5</td>\n",
       "      <td>3</td>\n",
       "    </tr>\n",
       "  </tbody>\n",
       "</table>\n",
       "</div>"
      ],
      "text/plain": [
       "      label  predict\n",
       "340       5        3\n",
       "1003      5        3\n",
       "1393      5        3\n",
       "2035      5        3\n",
       "2526      5        3\n",
       "2597      5        3\n",
       "2810      5        3\n",
       "3117      5        3\n",
       "3902      5        3\n",
       "4271      5        3\n",
       "4355      5        3\n",
       "4360      5        3\n",
       "5937      5        3\n",
       "5972      5        3\n",
       "6028      5        3\n",
       "6598      5        3"
      ]
     },
     "execution_count": 24,
     "metadata": {},
     "output_type": "execute_result"
    }
   ],
   "source": [
    "df[(df.label==5)&(df.predict==3)] #顯示真實值是5但預測結果是3的資料(共有17筆，只顯示前10筆)"
   ]
  },
  {
   "cell_type": "code",
   "execution_count": 25,
   "metadata": {},
   "outputs": [
    {
     "data": {
      "image/png": "[encoded data removed]",
      "text/plain": [
       "<matplotlib.figure.Figure at 0x7fc4b42605f8>"
      ]
     },
     "metadata": {},
     "output_type": "display_data"
    }
   ],
   "source": [
    "plot_images_labels_prediction(x_test_image,y_test_label,prediction,idx=340,num=1) #查看第340筆資料"
   ]
  },
  {
   "cell_type": "markdown",
   "metadata": {},
   "source": [
    "可看到此數字圖形既像5又像3，因此預測錯誤"
   ]
  },
  {
   "cell_type": "markdown",
   "metadata": {},
   "source": [
    "參考書籍：\n",
    "TensorFlow+Keras深度學習人工智慧實務應用-林大貴"
   ]
  }
 ],
 "metadata": {
  "kernelspec": {
   "display_name": "Python 3",
   "language": "python",
   "name": "python3"
  },
  "language_info": {
   "codemirror_mode": {
    "name": "ipython",
    "version": 3
   },
   "file_extension": ".py",
   "mimetype": "text/x-python",
   "name": "python",
   "nbconvert_exporter": "python",
   "pygments_lexer": "ipython3",
   "version": "3.6.3"
  }
 },
 "nbformat": 4,
 "nbformat_minor": 2
}
